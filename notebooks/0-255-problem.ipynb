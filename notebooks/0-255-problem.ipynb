{
 "cells": [
  {
   "cell_type": "code",
   "execution_count": 49,
   "id": "c6db73e8-d5af-4467-b17c-e26e8472b73b",
   "metadata": {},
   "outputs": [],
   "source": [
    "import os\n",
    "from PIL import Image\n",
    "import numpy as np\n",
    "from torch.utils.data import Dataset"
   ]
  },
  {
   "cell_type": "code",
   "execution_count": 16,
   "id": "2862e173-c110-4d9c-8edc-22615e279e2e",
   "metadata": {},
   "outputs": [],
   "source": [
    "root_dir = '../data/ovaskainen23'\n",
    "\n",
    "train = True\n",
    "sub_path = \"train\" if train else \"valid\"\n",
    "\n",
    "fnames = []\n",
    "with open(os.path.join(root_dir, sub_path, 'list.txt'), 'r') as f:\n",
    "    for line in f:\n",
    "        fnames.append(line.strip())"
   ]
  },
  {
   "cell_type": "code",
   "execution_count": 17,
   "id": "735c0d4d-8847-42d3-9f1a-7fce268d2862",
   "metadata": {},
   "outputs": [
    {
     "data": {
      "text/plain": [
       "7484"
      ]
     },
     "execution_count": 17,
     "metadata": {},
     "output_type": "execute_result"
    }
   ],
   "source": [
    "fnames.__len__()"
   ]
  },
  {
   "cell_type": "code",
   "execution_count": 18,
   "id": "5976068b-d3ef-47f8-8e43-afc9aa6623c0",
   "metadata": {},
   "outputs": [],
   "source": [
    "images = sorted(\n",
    "    [os.path.join(root_dir, sub_path, 'image', fname)\n",
    "     for fname in fnames if fname.endswith('png')])\n",
    "annotations = sorted(\n",
    "    [os.path.join(root_dir, sub_path, 'gt', fname)\n",
    "     for fname in fnames if fname.endswith('png')])"
   ]
  },
  {
   "cell_type": "code",
   "execution_count": 50,
   "id": "a341ed40-00f5-4c61-a72c-84f76ee5b831",
   "metadata": {},
   "outputs": [
    {
     "ename": "AttributeError",
     "evalue": "type object 'Dataset' has no attribute 'image_processor'",
     "output_type": "error",
     "traceback": [
      "\u001b[0;31m---------------------------------------------------------------------------\u001b[0m",
      "\u001b[0;31mAttributeError\u001b[0m                            Traceback (most recent call last)",
      "Cell \u001b[0;32mIn[50], line 7\u001b[0m\n\u001b[1;32m      4\u001b[0m segmentation_map \u001b[38;5;241m=\u001b[39m np\u001b[38;5;241m.\u001b[39marray(Image\u001b[38;5;241m.\u001b[39mopen(annotations[idx])\u001b[38;5;241m.\u001b[39mconvert(\u001b[38;5;124m'\u001b[39m\u001b[38;5;124mL\u001b[39m\u001b[38;5;124m'\u001b[39m), dtype\u001b[38;5;241m=\u001b[39mnp\u001b[38;5;241m.\u001b[39muint8)\n\u001b[1;32m      6\u001b[0m \u001b[38;5;66;03m# randomly crop + pad both image and segmentation map to same size\u001b[39;00m\n\u001b[0;32m----> 7\u001b[0m encoded_inputs \u001b[38;5;241m=\u001b[39m \u001b[43mDataset\u001b[49m\u001b[38;5;241;43m.\u001b[39;49m\u001b[43mimage_processor\u001b[49m(image, segmentation_map,\n\u001b[1;32m      8\u001b[0m                                       return_tensors\u001b[38;5;241m=\u001b[39m\u001b[38;5;124m\"\u001b[39m\u001b[38;5;124mpt\u001b[39m\u001b[38;5;124m\"\u001b[39m)\n\u001b[1;32m     10\u001b[0m \u001b[38;5;28;01mfor\u001b[39;00m k, v \u001b[38;5;129;01min\u001b[39;00m encoded_inputs\u001b[38;5;241m.\u001b[39mitems():\n\u001b[1;32m     11\u001b[0m     encoded_inputs[k]\u001b[38;5;241m.\u001b[39msqueeze_()  \u001b[38;5;66;03m# remove batch dimension\u001b[39;00m\n",
      "\u001b[0;31mAttributeError\u001b[0m: type object 'Dataset' has no attribute 'image_processor'"
     ]
    }
   ],
   "source": [
    "idx = 7453\n",
    "\n",
    "image = np.array(Image.open(images[idx]).convert('RGB'), dtype=np.uint8)\n",
    "segmentation_map = np.array(Image.open(annotations[idx]).convert('L'), dtype=np.uint8)\n",
    "\n",
    "# randomly crop + pad both image and segmentation map to same size\n",
    "encoded_inputs = Dataset.image_processor(image, segmentation_map,\n",
    "                                      return_tensors=\"pt\")\n",
    "\n",
    "for k, v in encoded_inputs.items():\n",
    "    encoded_inputs[k].squeeze_()  # remove batch dimension\n",
    "\n",
    "encoded_inputs"
   ]
  },
  {
   "cell_type": "code",
   "execution_count": 24,
   "id": "c1186ef6-8eae-42f7-b189-5d39850129ba",
   "metadata": {},
   "outputs": [],
   "source": [
    "import matplotlib.pyplot as plt"
   ]
  },
  {
   "cell_type": "code",
   "execution_count": 37,
   "id": "b9932f9d-4468-4802-8b21-fb368e01d55b",
   "metadata": {},
   "outputs": [
    {
     "name": "stdout",
     "output_type": "stream",
     "text": [
      "567 ../data/ovaskainen23/train/image/KB2_19_16.png\n",
      "1203 ../data/ovaskainen23/train/image/KB2_9_16.png\n",
      "2447 ../data/ovaskainen23/train/image/KB3_19_16.png\n",
      "2678 ../data/ovaskainen23/train/image/KB3_29_16.png\n",
      "2961 ../data/ovaskainen23/train/image/KB3_39_16.png\n",
      "5398 ../data/ovaskainen23/train/image/KB3_9_16.png\n",
      "5623 ../data/ovaskainen23/train/image/KB7_19_16.png\n",
      "5834 ../data/ovaskainen23/train/image/KB7_29_16.png\n",
      "5988 ../data/ovaskainen23/train/image/KB7_39_16.png\n",
      "6123 ../data/ovaskainen23/train/image/KB7_9_16.png\n",
      "6619 ../data/ovaskainen23/train/image/KL5_19_16.png\n",
      "7453 ../data/ovaskainen23/train/image/KL5_9_16.png\n"
     ]
    }
   ],
   "source": [
    "for i, x in enumerate(images):\n",
    "    if '9_16' in x: print(i, images[i])"
   ]
  },
  {
   "cell_type": "code",
   "execution_count": 40,
   "id": "c39e398e-a6f8-44e8-801e-122e753713bc",
   "metadata": {},
   "outputs": [
    {
     "data": {
      "text/plain": [
       "<matplotlib.image.AxesImage at 0x7fe4b405aac0>"
      ]
     },
     "execution_count": 40,
     "metadata": {},
     "output_type": "execute_result"
    },
    {
     "data": {
      "image/png": "[encoded data removed]",
      "text/plain": [
       "<Figure size 640x480 with 1 Axes>"
      ]
     },
     "metadata": {},
     "output_type": "display_data"
    }
   ],
   "source": [
    "plt.imshow(Image.open(annotations[7453]).convert('L'))"
   ]
  },
  {
   "cell_type": "code",
   "execution_count": 36,
   "id": "6a0312fe-4657-45bd-bb4b-45d7ab8a6490",
   "metadata": {},
   "outputs": [
    {
     "data": {
      "text/plain": [
       "'../data/ovaskainen23/train/image/KB3_66_33.png'"
      ]
     },
     "execution_count": 36,
     "metadata": {},
     "output_type": "execute_result"
    }
   ],
   "source": [
    "images[4007]"
   ]
  },
  {
   "cell_type": "code",
   "execution_count": 47,
   "id": "9dac1213-bfd0-4b87-8641-4f92e7c4929b",
   "metadata": {},
   "outputs": [
    {
     "data": {
      "text/plain": [
       "0"
      ]
     },
     "execution_count": 47,
     "metadata": {},
     "output_type": "execute_result"
    }
   ],
   "source": [
    "np.array(Image.open(annotations[7453]).convert('L'), dtype=np.uint8).min()"
   ]
  },
  {
   "cell_type": "code",
   "execution_count": null,
   "id": "ef822cb8-6033-418a-b5ca-4404f966c751",
   "metadata": {},
   "outputs": [],
   "source": []
  }
 ],
 "metadata": {
  "kernelspec": {
   "display_name": "Python 3 (ipykernel)",
   "language": "python",
   "name": "python3"
  },
  "language_info": {
   "codemirror_mode": {
    "name": "ipython",
    "version": 3
   },
   "file_extension": ".py",
   "mimetype": "text/x-python",
   "name": "python",
   "nbconvert_exporter": "python",
   "pygments_lexer": "ipython3",
   "version": "3.9.13"
  }
 },
 "nbformat": 4,
 "nbformat_minor": 5
}
