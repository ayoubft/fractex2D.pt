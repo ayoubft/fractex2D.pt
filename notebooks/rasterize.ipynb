{
 "cells": [
  {
   "cell_type": "code",
   "execution_count": 1,
   "id": "8e3ffc02-9680-4b08-848b-d152ddef05b2",
   "metadata": {},
   "outputs": [],
   "source": [
    "import os\n",
    "\n",
    "import geopandas as gpd\n",
    "import rasterio\n",
    "from PIL import Image\n",
    "from rasterio import features\n",
    "\n",
    "Image.MAX_IMAGE_PIXELS = 999_999_999"
   ]
  },
  {
   "cell_type": "markdown",
   "id": "f2f50562-36f4-46ba-b39e-0bfe714b713e",
   "metadata": {},
   "source": [
    "---"
   ]
  },
  {
   "cell_type": "markdown",
   "id": "fa87906d-04a0-4a98-99cf-5c2f8dfe1ef0",
   "metadata": {},
   "source": [
    "## Test"
   ]
  },
  {
   "cell_type": "code",
   "execution_count": null,
   "id": "16e1851a-71fe-47a7-92a7-b84463c8163e",
   "metadata": {},
   "outputs": [],
   "source": [
    "shp_fn = 'data/og1-shp.shp'\n",
    "rst_fn = 'data/OG1_Orthomosaic_jpegcompression.tif'\n",
    "out_fn = 'data/rasterized.tif'"
   ]
  },
  {
   "cell_type": "code",
   "execution_count": null,
   "id": "84f367da-6283-40a7-822b-3ccdcfe05239",
   "metadata": {},
   "outputs": [],
   "source": [
    "fractures = gpd.read_file(shp_fn)\n",
    "fractures.head()"
   ]
  },
  {
   "cell_type": "code",
   "execution_count": null,
   "id": "1e1229df-3944-4c34-9cac-001a424ae00e",
   "metadata": {},
   "outputs": [],
   "source": [
    "rst = rasterio.open(rst_fn)\n",
    "\n",
    "meta = rst.meta.copy()\n",
    "meta.update(compress='lzw')"
   ]
  },
  {
   "cell_type": "code",
   "execution_count": null,
   "id": "20275fc7-4567-4cb4-8bfe-d629b17f0660",
   "metadata": {},
   "outputs": [],
   "source": [
    "with rasterio.open(out_fn, 'w+', **meta) as out:\n",
    "    out_arr = out.read(1)\n",
    "\n",
    "    # this is where we create a generator of geom, value pairs to use in rasterizing\n",
    "    shapes = ((geom,value) for geom, value in zip(fractures.geometry, fractures.frac*255))\n",
    "\n",
    "    burned = features.rasterize(shapes=shapes, fill=0, out=out_arr, transform=out.transform)\n",
    "    out.write_band(1, burned)\n",
    "    out.write_band(2, burned)\n",
    "    out.write_band(3, burned)"
   ]
  },
  {
   "cell_type": "markdown",
   "id": "d69d8f8f-7fd5-4378-8928-e74b43f731c6",
   "metadata": {},
   "source": [
    "---"
   ]
  },
  {
   "cell_type": "markdown",
   "id": "928243f2-225c-40fd-a71a-8ee9c5687178",
   "metadata": {},
   "source": [
    "## Production"
   ]
  },
  {
   "cell_type": "code",
   "execution_count": 2,
   "id": "bf16c3b0-b29a-4a2d-b989-0eb003ecb481",
   "metadata": {},
   "outputs": [],
   "source": [
    "def rasterize(shp_fn, rst_fn, out_fn):\n",
    "    fractures = gpd.read_file(shp_fn)\n",
    "    rst = rasterio.open(rst_fn)\n",
    "\n",
    "    meta = rst.meta.copy()\n",
    "    meta.update(compress='lzw')\n",
    "\n",
    "    with rasterio.open(out_fn, 'w+', **meta) as out:\n",
    "        out_arr = out.read(1)\n",
    "    \n",
    "        # this is where we create a generator of geom, value pairs to use in rasterizing\n",
    "        shapes = ((geom,value) for geom, value in zip(fractures.geometry, fractures.frac*255))\n",
    "    \n",
    "        burned = features.rasterize(shapes=shapes, fill=0, out=out_arr, transform=out.transform)\n",
    "        out.write_band(1, burned)\n",
    "        out.write_band(2, burned)\n",
    "        out.write_band(3, burned)\n",
    "\n",
    "    print(f\"Trace §--- {rst_fn} ---§ rasterized successfully!\")"
   ]
  },
  {
   "cell_type": "code",
   "execution_count": 14,
   "id": "dcb33de1-fc65-406b-b3a5-240cb28ec372",
   "metadata": {},
   "outputs": [
    {
     "data": {
      "text/plain": [
       "[('KB11_orto_3b.tif', '_KB11_tulkinta.shp'),\n",
       " ('KB2_orto_3b.tif', '_KB2_tulkinta_clip.shp'),\n",
       " ('KB3_orto.tif', '_KB3_tulkinta_Bc_edits_clip.shp'),\n",
       " ('KB7_orto.tif', '_KB7_tulkinta.shp'),\n",
       " ('KB9_orto.tif', '_KB9_tulkinta_clip1.shp'),\n",
       " ('KL5_orto.tif', '_KL5_tulkinta.shp'),\n",
       " ('OG1_Orthomosaic_jpegcompression.tif', '_OG1_tulkinta.shp')]"
      ]
     },
     "execution_count": 14,
     "metadata": {},
     "output_type": "execute_result"
    }
   ],
   "source": [
    "orthos_path = '/Users/afatihi/DATA/loviisa_ovaskainen/Loviisa_orthomosaics_for_automation/tifs'\n",
    "\n",
    "orthos = [fname for fname in os.listdir(orthos_path) if fname.endswith('tif')]\n",
    "orthos.sort()\n",
    "\n",
    "traces_path = '/Users/afatihi/DATA/loviisa_ovaskainen/data-exported-ESRI-Shapefile/traces/zonal'\n",
    "\n",
    "traces = [fname for fname in os.listdir(traces_path) if fname.endswith('shp')]\n",
    "traces.sort()\n",
    "\n",
    "orthos = [i for i in orthos if 'KL2' not in i]\n",
    "db = []\n",
    "for i, o_t in enumerate(zip(orthos, traces)):\n",
    "    if 'KL2' in o_t[0]: continue  # not enough traces !!\n",
    "    db.append(o_t)\n",
    "\n",
    "db"
   ]
  },
  {
   "cell_type": "code",
   "execution_count": 4,
   "id": "a6e9c432-f3cc-4fde-95d6-9e965a559d85",
   "metadata": {},
   "outputs": [
    {
     "name": "stdout",
     "output_type": "stream",
     "text": [
      "Trace §--- /Users/afatihi/DATA/loviisa_ovaskainen/Loviisa_orthomosaics_for_automation/tifs/KB11_orto.tif ---§ rasterized successfully!\n",
      "Trace §--- /Users/afatihi/DATA/loviisa_ovaskainen/Loviisa_orthomosaics_for_automation/tifs/KB2_orto.tif ---§ rasterized successfully!\n",
      "Trace §--- /Users/afatihi/DATA/loviisa_ovaskainen/Loviisa_orthomosaics_for_automation/tifs/KB3_orto.tif ---§ rasterized successfully!\n",
      "Trace §--- /Users/afatihi/DATA/loviisa_ovaskainen/Loviisa_orthomosaics_for_automation/tifs/KB7_orto.tif ---§ rasterized successfully!\n",
      "Trace §--- /Users/afatihi/DATA/loviisa_ovaskainen/Loviisa_orthomosaics_for_automation/tifs/KB9_orto.tif ---§ rasterized successfully!\n",
      "Trace §--- /Users/afatihi/DATA/loviisa_ovaskainen/Loviisa_orthomosaics_for_automation/tifs/KL5_orto.tif ---§ rasterized successfully!\n"
     ]
    }
   ],
   "source": [
    "for (ortho, trace) in db:\n",
    "    out = f\"{ortho.split('_')[0]}-mask.tif\"\n",
    "    rasterize(\n",
    "        os.path.join(traces_path, trace),\n",
    "        os.path.join(orthos_path, ortho),\n",
    "        out)"
   ]
  },
  {
   "cell_type": "code",
   "execution_count": 20,
   "id": "cff73c7b-faaa-46a1-b6b1-311fe3eab986",
   "metadata": {},
   "outputs": [
    {
     "name": "stdout",
     "output_type": "stream",
     "text": [
      "Trace §--- /Users/afatihi/DATA/loviisa_ovaskainen/Loviisa_orthomosaics_for_automation/tifs/KL5_orto.tif ---§ rasterized successfully!\n"
     ]
    }
   ],
   "source": [
    "for (ortho, trace) in db:\n",
    "    out = f\"{ortho.split('_')[0]}-mask.tif\"\n",
    "    rasterize(\n",
    "        os.path.join(traces_path, trace),\n",
    "        os.path.join(orthos_path, ortho),\n",
    "        out)"
   ]
  }
 ],
 "metadata": {
  "kernelspec": {
   "display_name": "Python 3 (ipykernel)",
   "language": "python",
   "name": "python3"
  },
  "language_info": {
   "codemirror_mode": {
    "name": "ipython",
    "version": 3
   },
   "file_extension": ".py",
   "mimetype": "text/x-python",
   "name": "python",
   "nbconvert_exporter": "python",
   "pygments_lexer": "ipython3",
   "version": "3.11.8"
  }
 },
 "nbformat": 4,
 "nbformat_minor": 5
}
