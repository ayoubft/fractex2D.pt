{
 "cells": [
  {
   "cell_type": "code",
   "execution_count": 1,
   "id": "7b2d9a86-2d45-4ed8-a6cf-80773841d83b",
   "metadata": {},
   "outputs": [],
   "source": [
    "from PIL import Image\n",
    "import os"
   ]
  },
  {
   "cell_type": "code",
   "execution_count": 2,
   "id": "89b08f28-e359-4a61-a245-63753dd1b90c",
   "metadata": {},
   "outputs": [],
   "source": [
    "def is_mostly_white(image, threshold=.8):\n",
    "    \"\"\"\n",
    "    Checks if the image is mostly white based on a threshold.\n",
    "    \n",
    "    Args:\n",
    "    image: The PIL Image object.\n",
    "    threshold: The minimum percentage of white pixels.\n",
    "    \n",
    "    Returns:\n",
    "    True if the percentage of white pixels is above the threshold, False otherwise.\n",
    "    \"\"\"\n",
    "    width, height = image.size\n",
    "    pixels = image.load()\n",
    "    count = 0\n",
    "    for x in range(width):\n",
    "      for y in range(height):\n",
    "          r, g, b = pixels[x, y]\n",
    "          if r == g == b == 255:\n",
    "              count += 1\n",
    "\n",
    "    percentage = count / (width * height)\n",
    "    return percentage > threshold"
   ]
  },
  {
   "cell_type": "code",
   "execution_count": 3,
   "id": "7c0b7e8d-314e-4a20-b69a-543d7a150b2c",
   "metadata": {},
   "outputs": [],
   "source": [
    "def filter_non_white_images(image_folder, output_file):\n",
    "    \"\"\"\n",
    "    Filters images in a folder and saves filenames of non-white ones to a file.\n",
    "\n",
    "    Args:\n",
    "        image_folder: Path to the folder containing images.\n",
    "        output_file: Path to the file where non-white image names will be saved.\n",
    "    \"\"\"\n",
    "    non_white_images = []\n",
    "    for filename in os.listdir(image_folder):\n",
    "        image_path = os.path.join(image_folder, filename)\n",
    "        if os.path.isfile(image_path):\n",
    "            try:\n",
    "                image = Image.open(image_path)\n",
    "                if not is_mostly_white(image):\n",
    "                    non_white_images.append(filename)\n",
    "            except (IOError, OSError) as e:\n",
    "                print(f\"Error opening image: {filename} ({e})\")\n",
    "\n",
    "    with open(output_file, 'w') as f:\n",
    "        f.write('\\n'.join(non_white_images))"
   ]
  },
  {
   "cell_type": "code",
   "execution_count": 4,
   "id": "a6c984d9-fc53-4e9f-b0a3-437c2147758f",
   "metadata": {},
   "outputs": [],
   "source": [
    "# Example usage\n",
    "image_folder = \"data/ovaskainen23\"\n",
    "output_file = \"non_white_images.txt\"\n",
    "filter_non_white_images(image_folder, output_file)"
   ]
  }
 ],
 "metadata": {
  "kernelspec": {
   "display_name": "Python 3 (ipykernel)",
   "language": "python",
   "name": "python3"
  },
  "language_info": {
   "codemirror_mode": {
    "name": "ipython",
    "version": 3
   },
   "file_extension": ".py",
   "mimetype": "text/x-python",
   "name": "python",
   "nbconvert_exporter": "python",
   "pygments_lexer": "ipython3",
   "version": "3.11.0"
  }
 },
 "nbformat": 4,
 "nbformat_minor": 5
}
