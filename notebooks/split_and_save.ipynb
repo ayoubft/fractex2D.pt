{
 "cells": [
  {
   "cell_type": "code",
   "execution_count": 1,
   "id": "44a853bd-123c-4f03-93d4-fb9682ff7920",
   "metadata": {},
   "outputs": [],
   "source": [
    "import os\n",
    "\n",
    "from PIL import Image\n",
    "\n",
    "Image.MAX_IMAGE_PIXELS = 999_999_999"
   ]
  },
  {
   "cell_type": "code",
   "execution_count": 2,
   "id": "ff260367-8df4-4572-b806-8bcfd07ea1de",
   "metadata": {},
   "outputs": [
    {
     "data": {
      "text/plain": [
       "['KB11_orto_3b.tif',\n",
       " 'KB2_orto_3b.tif',\n",
       " 'KB3_orto.tif',\n",
       " 'KB7_orto.tif',\n",
       " 'KB9_orto.tif',\n",
       " 'KL5_orto.tif']"
      ]
     },
     "execution_count": 2,
     "metadata": {},
     "output_type": "execute_result"
    }
   ],
   "source": [
    "path_img = '/Users/afatihi/DATA/loviisa_ovaskainen/Loviisa_orthomosaics_for_automation/tifs'\n",
    "\n",
    "images2 = [fname for fname in os.listdir(path_img) if fname.endswith('tif')]\n",
    "images = []\n",
    "for i in range(len(images2)):\n",
    "    if not images2[i].startswith((\"KL2\", \"OG1\")):\n",
    "        images.append(images2[i])\n",
    "images.sort()\n",
    "images"
   ]
  },
  {
   "cell_type": "code",
   "execution_count": 3,
   "id": "eb889477-40ab-4348-98c3-bd9cd6298a25",
   "metadata": {},
   "outputs": [
    {
     "data": {
      "text/plain": [
       "['KB11_mask.tif',\n",
       " 'KB2_mask.tif',\n",
       " 'KB3_mask.tif',\n",
       " 'KB7_mask.tif',\n",
       " 'KB9_mask.tif',\n",
       " 'KL5_mask.tif']"
      ]
     },
     "execution_count": 3,
     "metadata": {},
     "output_type": "execute_result"
    }
   ],
   "source": [
    "path_msk = '/Users/afatihi/DATA/loviisa_ovaskainen/Loviisa_orthomosaics_for_automation/tifs_masks/'\n",
    "\n",
    "masks = [fname for fname in os.listdir(path_msk) if fname.endswith('tif')]\n",
    "masks.sort()\n",
    "masks"
   ]
  },
  {
   "cell_type": "code",
   "execution_count": 4,
   "id": "c974365a-2ccb-4333-84cc-f7bf65be722a",
   "metadata": {},
   "outputs": [],
   "source": [
    "def split_and_save(image_path, name, out_dir, ext):\n",
    "    \"\"\"\n",
    "    Splits a large image into 256x256 tiles and saves them with convenient names.\n",
    "    \n",
    "    Args:\n",
    "    image_path: Path to the large image file.\n",
    "    output_dir: Directory to save the split images.\n",
    "    \"\"\"\n",
    "\n",
    "    output_dir = os.path.join(name, out_dir)\n",
    "    if not os.path.exists(output_dir):\n",
    "        os.makedirs(output_dir)\n",
    "\n",
    "    img = Image.open(image_path)\n",
    "    width, height = img.size\n",
    "    \n",
    "    # Calculate the number of tiles in each row and column\n",
    "    rows = height // 256\n",
    "    cols = width // 256\n",
    "    \n",
    "    # Loop through each tile and save it\n",
    "    for row in range(rows):\n",
    "        for col in range(cols):\n",
    "            # Calculate the coordinates of the tile\n",
    "            x_min = col * 256\n",
    "            y_min = row * 256\n",
    "            x_max = x_min + 256\n",
    "            y_max = y_min + 256\n",
    "            \n",
    "            # Crop the tile from the original image\n",
    "            tile = img.crop((x_min, y_min, x_max, y_max))\n",
    "            \n",
    "            # Generate a convenient filename\n",
    "            filename = f\"{name}_{row}_{col}.{ext}\"\n",
    "            \n",
    "            # Save the tile\n",
    "            tile.save(f\"{output_dir}/{filename}\")\n",
    "    \n",
    "    print(f\"Image §--- {output_dir} ---§ split and saved successfully!\")"
   ]
  },
  {
   "cell_type": "code",
   "execution_count": 6,
   "id": "fde3efbe-4113-40ef-8109-255c36570938",
   "metadata": {},
   "outputs": [
    {
     "name": "stdout",
     "output_type": "stream",
     "text": [
      "Image §--- KB11/image ---§ split and saved successfully!\n",
      "Image §--- KB2/image ---§ split and saved successfully!\n",
      "Image §--- KB3/image ---§ split and saved successfully!\n",
      "Image §--- KB7/image ---§ split and saved successfully!\n",
      "Image §--- KB9/image ---§ split and saved successfully!\n",
      "Image §--- KL5/image ---§ split and saved successfully!\n"
     ]
    }
   ],
   "source": [
    "for img in images:\n",
    "    split_and_save(os.path.join(path_img, img), img.split('_')[0], 'image', 'png')"
   ]
  },
  {
   "cell_type": "code",
   "execution_count": 7,
   "id": "a9d6e734-486e-4972-95f1-1fe8af143afc",
   "metadata": {},
   "outputs": [
    {
     "name": "stdout",
     "output_type": "stream",
     "text": [
      "Image §--- KB11/gt ---§ split and saved successfully!\n",
      "Image §--- KB2/gt ---§ split and saved successfully!\n",
      "Image §--- KB3/gt ---§ split and saved successfully!\n",
      "Image §--- KB7/gt ---§ split and saved successfully!\n",
      "Image §--- KB9/gt ---§ split and saved successfully!\n",
      "Image §--- KL5/gt ---§ split and saved successfully!\n"
     ]
    }
   ],
   "source": [
    "for msk in masks:\n",
    "    split_and_save(os.path.join(path_msk, msk), msk.split('_')[0], 'gt', 'png')"
   ]
  }
 ],
 "metadata": {
  "kernelspec": {
   "display_name": "Python 3 (ipykernel)",
   "language": "python",
   "name": "python3"
  },
  "language_info": {
   "codemirror_mode": {
    "name": "ipython",
    "version": 3
   },
   "file_extension": ".py",
   "mimetype": "text/x-python",
   "name": "python",
   "nbconvert_exporter": "python",
   "pygments_lexer": "ipython3",
   "version": "3.11.0"
  }
 },
 "nbformat": 4,
 "nbformat_minor": 5
}
